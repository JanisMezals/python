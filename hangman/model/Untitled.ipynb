{
 "cells": [
  {
   "cell_type": "code",
   "execution_count": 13,
   "id": "b44fb97d",
   "metadata": {},
   "outputs": [],
   "source": [
    "def unique_score():\n",
    "        \"\"\"Calculate unique letters in word\n",
    "\n",
    "        Returns:\n",
    "            INTEGER unique letter count multiplicate by 2\n",
    "        \"\"\"\n",
    "        t = translate(\"unique\")\n",
    "        u = (''.join(set(s)))\n",
    "        initial_score = len(u)\n",
    "        unique_score = initial_score * 2\n",
    "        return unique_score"
   ]
  },
  {
   "cell_type": "code",
   "execution_count": 14,
   "id": "80c02c72",
   "metadata": {},
   "outputs": [
    {
     "ename": "NameError",
     "evalue": "name 's' is not defined",
     "output_type": "error",
     "traceback": [
      "\u001b[1;31m---------------------------------------------------------------------------\u001b[0m",
      "\u001b[1;31mNameError\u001b[0m                                 Traceback (most recent call last)",
      "\u001b[1;32m~\\AppData\\Local\\Temp/ipykernel_15740/1506315156.py\u001b[0m in \u001b[0;36m<module>\u001b[1;34m\u001b[0m\n\u001b[1;32m----> 1\u001b[1;33m \u001b[0munique_score\u001b[0m\u001b[1;33m(\u001b[0m\u001b[1;33m)\u001b[0m\u001b[1;33m\u001b[0m\u001b[1;33m\u001b[0m\u001b[0m\n\u001b[0m",
      "\u001b[1;32m~\\AppData\\Local\\Temp/ipykernel_15740/4026714878.py\u001b[0m in \u001b[0;36munique_score\u001b[1;34m()\u001b[0m\n\u001b[0;32m      6\u001b[0m         \"\"\"\n\u001b[0;32m      7\u001b[0m         \u001b[0mt\u001b[0m \u001b[1;33m=\u001b[0m \u001b[0mtranslate\u001b[0m\u001b[1;33m(\u001b[0m\u001b[1;34m\"unique\"\u001b[0m\u001b[1;33m)\u001b[0m\u001b[1;33m\u001b[0m\u001b[1;33m\u001b[0m\u001b[0m\n\u001b[1;32m----> 8\u001b[1;33m         \u001b[0mu\u001b[0m \u001b[1;33m=\u001b[0m \u001b[1;33m(\u001b[0m\u001b[1;34m''\u001b[0m\u001b[1;33m.\u001b[0m\u001b[0mjoin\u001b[0m\u001b[1;33m(\u001b[0m\u001b[0mset\u001b[0m\u001b[1;33m(\u001b[0m\u001b[0ms\u001b[0m\u001b[1;33m)\u001b[0m\u001b[1;33m)\u001b[0m\u001b[1;33m)\u001b[0m\u001b[1;33m\u001b[0m\u001b[1;33m\u001b[0m\u001b[0m\n\u001b[0m\u001b[0;32m      9\u001b[0m         \u001b[0minitial_score\u001b[0m \u001b[1;33m=\u001b[0m \u001b[0mlen\u001b[0m\u001b[1;33m(\u001b[0m\u001b[0mu\u001b[0m\u001b[1;33m)\u001b[0m\u001b[1;33m\u001b[0m\u001b[1;33m\u001b[0m\u001b[0m\n\u001b[0;32m     10\u001b[0m         \u001b[0munique_score\u001b[0m \u001b[1;33m=\u001b[0m \u001b[0minitial_score\u001b[0m \u001b[1;33m*\u001b[0m \u001b[1;36m2\u001b[0m\u001b[1;33m\u001b[0m\u001b[1;33m\u001b[0m\u001b[0m\n",
      "\u001b[1;31mNameError\u001b[0m: name 's' is not defined"
     ]
    }
   ],
   "source": [
    "unique_score()"
   ]
  },
  {
   "cell_type": "code",
   "execution_count": 8,
   "id": "2317acbf",
   "metadata": {},
   "outputs": [],
   "source": [
    "def translate(s):\n",
    "        \"\"\"Converts latvian letters with macron\n",
    "        and cedilla to regular letter\n",
    "\n",
    "        Returns:\n",
    "            converted letter in lower case\n",
    "        \"\"\"\n",
    "        u = s.lower()\n",
    "        lat = {\"ā\": \"a\",\n",
    "               \"č\": \"c\",\n",
    "               \"ē\": \"e\",\n",
    "               \"ģ\": \"g\",\n",
    "               \"ī\": \"i\",\n",
    "               \"ķ\": \"k\",\n",
    "               \"ļ\": \"l\",\n",
    "               \"ņ\": \"n\",\n",
    "               \"š\": \"s\",\n",
    "               \"ū\": \"u\",\n",
    "               \"ž\": \"z\"}\n",
    "        for k, v in lat.items():\n",
    "            u = u.replace(k, v)\n",
    "        return u"
   ]
  },
  {
   "cell_type": "code",
   "execution_count": null,
   "id": "21d59414",
   "metadata": {},
   "outputs": [],
   "source": []
  }
 ],
 "metadata": {
  "kernelspec": {
   "display_name": "Python 3 (ipykernel)",
   "language": "python",
   "name": "python3"
  },
  "language_info": {
   "codemirror_mode": {
    "name": "ipython",
    "version": 3
   },
   "file_extension": ".py",
   "mimetype": "text/x-python",
   "name": "python",
   "nbconvert_exporter": "python",
   "pygments_lexer": "ipython3",
   "version": "3.9.7"
  }
 },
 "nbformat": 4,
 "nbformat_minor": 5
}
