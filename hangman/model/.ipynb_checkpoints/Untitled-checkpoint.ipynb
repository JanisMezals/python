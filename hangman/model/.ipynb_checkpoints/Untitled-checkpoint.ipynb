{
 "cells": [
  {
   "cell_type": "code",
   "execution_count": 1,
   "id": "3d62b2ab",
   "metadata": {},
   "outputs": [],
   "source": [
    "def unique_score(u):\n",
    "        \"\"\"Calculate unique letters in word\n",
    "\n",
    "        Returns:\n",
    "            INTEGER unique letter count multiplicate by 2\n",
    "        \"\"\"\n",
    "        #t = self.translate()\n",
    "        u = (''.join(set(t)))\n",
    "        initial_score = len(u)\n",
    "        unique_score = initial_score * 2\n",
    "        return unique_score"
   ]
  },
  {
   "cell_type": "code",
   "execution_count": 3,
   "id": "cb1980b2",
   "metadata": {},
   "outputs": [
    {
     "ename": "TypeError",
     "evalue": "unique_score() takes 0 positional arguments but 1 was given",
     "output_type": "error",
     "traceback": [
      "\u001b[1;31m---------------------------------------------------------------------------\u001b[0m",
      "\u001b[1;31mTypeError\u001b[0m                                 Traceback (most recent call last)",
      "\u001b[1;32m~\\AppData\\Local\\Temp/ipykernel_15740/3366148955.py\u001b[0m in \u001b[0;36m<module>\u001b[1;34m\u001b[0m\n\u001b[1;32m----> 1\u001b[1;33m \u001b[0munique_score\u001b[0m\u001b[1;33m(\u001b[0m\u001b[1;34m\"unique\"\u001b[0m\u001b[1;33m)\u001b[0m\u001b[1;33m\u001b[0m\u001b[1;33m\u001b[0m\u001b[0m\n\u001b[0m",
      "\u001b[1;31mTypeError\u001b[0m: unique_score() takes 0 positional arguments but 1 was given"
     ]
    }
   ],
   "source": [
    "unique_score(\"unique\")"
   ]
  },
  {
   "cell_type": "code",
   "execution_count": null,
   "id": "0036bfb5",
   "metadata": {},
   "outputs": [],
   "source": []
  }
 ],
 "metadata": {
  "kernelspec": {
   "display_name": "Python 3 (ipykernel)",
   "language": "python",
   "name": "python3"
  },
  "language_info": {
   "codemirror_mode": {
    "name": "ipython",
    "version": 3
   },
   "file_extension": ".py",
   "mimetype": "text/x-python",
   "name": "python",
   "nbconvert_exporter": "python",
   "pygments_lexer": "ipython3",
   "version": "3.9.7"
  }
 },
 "nbformat": 4,
 "nbformat_minor": 5
}
